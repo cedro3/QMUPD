{
  "cells": [
    {
      "cell_type": "markdown",
      "metadata": {
        "id": "view-in-github",
        "colab_type": "text"
      },
      "source": [
        "<a href=\"https://colab.research.google.com/github/cedro3/QMUPD/blob/master/QMUPD.ipynb\" target=\"_parent\"><img src=\"https://colab.research.google.com/assets/colab-badge.svg\" alt=\"Open In Colab\"/></a>"
      ]
    },
    {
      "cell_type": "code",
      "execution_count": null,
      "metadata": {
        "id": "_7IMTJEdpSMJ"
      },
      "outputs": [],
      "source": [
        "#@title セットアップ\n",
        "\n",
        "# githubからコードを取得\n",
        "! git clone https://github.com/cedro3/QMUPD.git\n",
        "%cd QMUPD\n",
        "\n",
        "# ライブラリ・インストール\n",
        "! pip install -r requirements.txt\n",
        "! pip install pretrainedmodels\n",
        "\n",
        "# 学習済みパラメータ・ダウンロード\n",
        "! pip install --upgrade gdown\n",
        "import gdown\n",
        "gdown.download('https://drive.google.com/uc?id=1QpuCQ0LrrlsHCs3Vh6xC0uIBlWrDrGo1', 'checkpoints.zip', quiet=False)\n",
        "! unzip checkpoints.zip\n",
        "\n",
        "# 関数インポート\n",
        "from function import *"
      ]
    },
    {
      "cell_type": "code",
      "execution_count": null,
      "metadata": {
        "id": "cUz-cTvFIoAu"
      },
      "outputs": [],
      "source": [
        "#@title サンプル画像の表示\n",
        "display_pic('examples')"
      ]
    },
    {
      "cell_type": "code",
      "execution_count": null,
      "metadata": {
        "id": "hwtglANBqHUQ"
      },
      "outputs": [],
      "source": [
        "#@title スケッチの作成\n",
        "! python test_seq_style3.py"
      ]
    },
    {
      "cell_type": "code",
      "execution_count": null,
      "metadata": {
        "id": "g3I50o1kwCEo"
      },
      "outputs": [],
      "source": [
        "#@title スケッチの表示１\n",
        "display_pic('results/QMUPD_model/test_200/imagesstyle0-0-1')"
      ]
    },
    {
      "cell_type": "code",
      "execution_count": null,
      "metadata": {
        "id": "w-kSR4bixOh6"
      },
      "outputs": [],
      "source": [
        "#@title スケッチの表示２\n",
        "display_pic(('results/QMUPD_model/test_200/imagesstyle0-1-0'))"
      ]
    },
    {
      "cell_type": "code",
      "execution_count": null,
      "metadata": {
        "colab": {
          "background_save": true
        },
        "id": "ti_sOg8fzMMg"
      },
      "outputs": [],
      "source": [
        "#@title スケッチの表示３\n",
        "display_pic(('results/QMUPD_model/test_200/imagesstyle1-0-0'))"
      ]
    }
  ],
  "metadata": {
    "accelerator": "GPU",
    "colab": {
      "collapsed_sections": [],
      "name": "QMUPD",
      "provenance": [],
      "mount_file_id": "1D2c9wDrChqpKPwzoaIS5acW4zBoE1hRM",
      "authorship_tag": "ABX9TyNoJiK776n3imLQP6b/t8cy",
      "include_colab_link": true
    },
    "kernelspec": {
      "display_name": "Python 3",
      "name": "python3"
    },
    "language_info": {
      "name": "python"
    }
  },
  "nbformat": 4,
  "nbformat_minor": 0
}